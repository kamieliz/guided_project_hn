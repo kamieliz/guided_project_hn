{
 "cells": [
  {
   "cell_type": "markdown",
   "metadata": {
    "collapsed": true
   },
   "source": [
    "# Analyzing Submissions on Hacker News\n",
    "Hacker News is a site started by the startup incubator Y Combinator, where user submitted stores receive votes and comments. I would like to analyze posts with titles that begin with **Ask HN** or **Show HN**. Users submit **Ask HN** posts to ask the Hacker News community a specific question. Likewise users submit **Show HN** posts to show the Hacker News community a project, product or just something interesting. I want to compare these type of posts to determine the following:\n",
    "- Do Ask HN or SHOW HN posts receive more comments on average?\n",
    "- Do posts created at a certain time receive more comments on average?\n",
    "\n",
    "I'm going to start by importing the needed libraries and reading the dataset into a list of lists."
   ]
  },
  {
   "cell_type": "code",
   "execution_count": 41,
   "metadata": {},
   "outputs": [
    {
     "name": "stdout",
     "output_type": "stream",
     "text": [
      "[['id', 'title', 'url', 'num_points', 'num_comments', 'author', 'created_at'], ['12224879', 'Interactive Dynamic Video', 'http://www.interactivedynamicvideo.com/', '386', '52', 'ne0phyte', '8/4/2016 11:52'], ['10975351', 'How to Use Open Source and Shut the Fuck Up at the Same Time', 'http://hueniverse.com/2016/01/26/how-to-use-open-source-and-shut-the-fuck-up-at-the-same-time/', '39', '10', 'josep2', '1/26/2016 19:30'], ['11964716', \"Florida DJs May Face Felony for April Fools' Water Joke\", 'http://www.thewire.com/entertainment/2013/04/florida-djs-april-fools-water-joke/63798/', '2', '1', 'vezycash', '6/23/2016 22:20'], ['11919867', 'Technology ventures: From Idea to Enterprise', 'https://www.amazon.com/Technology-Ventures-Enterprise-Thomas-Byers/dp/0073523429', '3', '1', 'hswarna', '6/17/2016 0:01']]\n"
     ]
    }
   ],
   "source": [
    "import csv\n",
    "opened_file = open('hacker_news.csv')\n",
    "read_file = csv.reader(opened_file)\n",
    "\n",
    "hn = []\n",
    "for row in read_file:\n",
    "    hn.append(row)\n",
    "    \n",
    "print(hn[:5])"
   ]
  },
  {
   "cell_type": "markdown",
   "metadata": {},
   "source": [
    "From the above output I can see that I need to remove the column headers in order to analyze the data. I will do that by removing the first row of the data using list splicing."
   ]
  },
  {
   "cell_type": "code",
   "execution_count": 42,
   "metadata": {},
   "outputs": [
    {
     "name": "stdout",
     "output_type": "stream",
     "text": [
      "['id', 'title', 'url', 'num_points', 'num_comments', 'author', 'created_at']\n",
      "[['12224879', 'Interactive Dynamic Video', 'http://www.interactivedynamicvideo.com/', '386', '52', 'ne0phyte', '8/4/2016 11:52'], ['10975351', 'How to Use Open Source and Shut the Fuck Up at the Same Time', 'http://hueniverse.com/2016/01/26/how-to-use-open-source-and-shut-the-fuck-up-at-the-same-time/', '39', '10', 'josep2', '1/26/2016 19:30'], ['11964716', \"Florida DJs May Face Felony for April Fools' Water Joke\", 'http://www.thewire.com/entertainment/2013/04/florida-djs-april-fools-water-joke/63798/', '2', '1', 'vezycash', '6/23/2016 22:20'], ['11919867', 'Technology ventures: From Idea to Enterprise', 'https://www.amazon.com/Technology-Ventures-Enterprise-Thomas-Byers/dp/0073523429', '3', '1', 'hswarna', '6/17/2016 0:01'], ['10301696', 'Note by Note: The Making of Steinway L1037 (2007)', 'http://www.nytimes.com/2007/11/07/movies/07stein.html?_r=0', '8', '2', 'walterbell', '9/30/2015 4:12']]\n"
     ]
    }
   ],
   "source": [
    "headers = hn[0]\n",
    "hn = hn[1:]\n",
    "print(headers)\n",
    "print(hn[:5])"
   ]
  },
  {
   "cell_type": "markdown",
   "metadata": {},
   "source": [
    "Now I want to create separate lists for posts beginning with Ask HN and Show HN including any case variations"
   ]
  },
  {
   "cell_type": "code",
   "execution_count": 43,
   "metadata": {},
   "outputs": [
    {
     "name": "stdout",
     "output_type": "stream",
     "text": [
      "1744\n",
      "1162\n",
      "17194\n"
     ]
    }
   ],
   "source": [
    "ask_posts = []\n",
    "show_posts = []\n",
    "other_posts = []\n",
    "\n",
    "for row in hn:\n",
    "    title = row[1]\n",
    "    title = title.lower()\n",
    "    if title.startswith('ask hn'):\n",
    "        ask_posts.append(row)\n",
    "    elif title.startswith('show hn'):\n",
    "        show_posts.append(row)\n",
    "    else:\n",
    "        other_posts.append(row)\n",
    "        \n",
    "print(len(ask_posts))\n",
    "print(len(show_posts))\n",
    "print(len(other_posts))"
   ]
  },
  {
   "cell_type": "markdown",
   "metadata": {},
   "source": [
    "Now I want to determine if ask posts or show posts receive more comments on average."
   ]
  },
  {
   "cell_type": "code",
   "execution_count": 44,
   "metadata": {},
   "outputs": [
    {
     "name": "stdout",
     "output_type": "stream",
     "text": [
      "14.038417431192661\n",
      "10.31669535283993\n"
     ]
    }
   ],
   "source": [
    "total_ask_comments = 0\n",
    "for row in ask_posts:\n",
    "    comments = row[4]\n",
    "    comments_int = int(comments)\n",
    "    total_ask_comments += comments_int\n",
    "    \n",
    "avg_ask_comments = total_ask_comments / len(ask_posts)\n",
    "print(avg_ask_comments)\n",
    "\n",
    "total_show_comments = 0\n",
    "for row in show_posts:\n",
    "    comments = row[4]\n",
    "    comments_int = int(comments)\n",
    "    total_show_comments += comments_int\n",
    "\n",
    "avg_show_comments = total_show_comments / len(show_posts)\n",
    "print(avg_show_comments)"
   ]
  },
  {
   "cell_type": "markdown",
   "metadata": {},
   "source": [
    "From this simple analysis, it looks like Ask HN posts receive more comments on average compared to Show HN posts."
   ]
  },
  {
   "cell_type": "markdown",
   "metadata": {},
   "source": [
    "Since ask posts are more likely to receive comments, I want to focus my remaining analysis on just those posts.\n",
    "\n",
    "Next I want to determine if ask posts created at a certain time are more likely to attract comments. I will perform that analysis by following the steps below:\n",
    "- calculate the number of ask post created in each hour of the day, along with the number of comments received\n",
    "- calculate the average number of comments ask posts receive by hour created\n",
    "\n",
    "First I want to focus on calculating the number of ask posts created in each hour a day. \n",
    "- I will do that by first importing the datetime module as dt.\n",
    "- Create an empty list and assign it to a list\n",
    "- I will iterate over the ask_posts list and append it to the new list with two elements\n",
    "    - the first element should be the column created at\n",
    "    - the second element should be the number of comments converted into an integer\n",
    "- Create two empty dictionaries\n",
    "- loop through each row of the list and extract teh hour from the date\n",
    "- use datetime.strptime() method to parse the date \n",
    "- Create a frequency table for the hours"
   ]
  },
  {
   "cell_type": "code",
   "execution_count": 45,
   "metadata": {},
   "outputs": [
    {
     "name": "stdout",
     "output_type": "stream",
     "text": [
      "{'09': 45, '13': 85, '10': 59, '14': 107, '16': 108, '23': 68, '12': 73, '17': 100, '15': 116, '21': 109, '20': 80, '02': 58, '18': 109, '03': 54, '05': 46, '19': 110, '01': 60, '22': 71, '08': 48, '04': 47, '00': 55, '06': 44, '07': 34, '11': 58}\n",
      "{'09': 251, '13': 1253, '10': 793, '14': 1416, '16': 1814, '23': 543, '12': 687, '17': 1146, '15': 4477, '21': 1745, '20': 1722, '02': 1381, '18': 1439, '03': 421, '05': 464, '19': 1188, '01': 683, '22': 479, '08': 492, '04': 337, '00': 447, '06': 397, '07': 267, '11': 641}\n"
     ]
    }
   ],
   "source": [
    "import datetime as dt\n",
    "result_list = []\n",
    "for row in ask_posts:\n",
    "    created = row[6]\n",
    "    comments = row[4]\n",
    "    comments_int = int(comments)\n",
    "    list_elem = [created, comments_int]\n",
    "    result_list.append(list_elem)\n",
    "\n",
    "counts_by_hour = {}\n",
    "comments_by_hour = {}\n",
    "for row in result_list:\n",
    "    date = row[0]\n",
    "    date_obj = dt.datetime.strptime(date, \"%m/%d/%Y %H:%M\")\n",
    "    hour = date_obj.strftime(\"%H\")\n",
    "    if hour not in counts_by_hour:\n",
    "        counts_by_hour[hour] = 1\n",
    "        comments_by_hour[hour] = row[1]\n",
    "    else:\n",
    "        counts_by_hour[hour] += 1\n",
    "        comments_by_hour[hour] += row[1]\n",
    "\n",
    "print(counts_by_hour)\n",
    "print(comments_by_hour)"
   ]
  },
  {
   "cell_type": "markdown",
   "metadata": {},
   "source": [
    "Now that I have two dictionaries:\n",
    "- counts_by_hour: containing the number of ask posts created during each hour of the day\n",
    "- comments_by_hour: containing the corresponding number of comments ask posts created at each hour received\n",
    "\n",
    "I will now use these two dictionaries to calculate the average number of comments for posts created during each hour of the day."
   ]
  },
  {
   "cell_type": "code",
   "execution_count": 46,
   "metadata": {},
   "outputs": [
    {
     "name": "stdout",
     "output_type": "stream",
     "text": [
      "[['09', 5.5777777777777775], ['13', 14.741176470588234], ['10', 13.440677966101696], ['14', 13.233644859813085], ['16', 16.796296296296298], ['23', 7.985294117647059], ['12', 9.41095890410959], ['17', 11.46], ['15', 38.5948275862069], ['21', 16.009174311926607], ['20', 21.525], ['02', 23.810344827586206], ['18', 13.20183486238532], ['03', 7.796296296296297], ['05', 10.08695652173913], ['19', 10.8], ['01', 11.383333333333333], ['22', 6.746478873239437], ['08', 10.25], ['04', 7.170212765957447], ['00', 8.127272727272727], ['06', 9.022727272727273], ['07', 7.852941176470588], ['11', 11.051724137931034]]\n"
     ]
    }
   ],
   "source": [
    "avg_by_hour = []\n",
    "for comment in comments_by_hour:\n",
    "    avg_by_hour.append([comment, comments_by_hour[comment]/counts_by_hour[comment]])\n",
    "    \n",
    "print(avg_by_hour)"
   ]
  },
  {
   "cell_type": "markdown",
   "metadata": {},
   "source": [
    "Now that I have identified the average amount of comments per hour. I want to format this list so that it is easy to identify the hours with the highest values.\n",
    "I want to finish this project by sorting the list of lists and printing the five highest values in a format that is easier to read"
   ]
  },
  {
   "cell_type": "code",
   "execution_count": 47,
   "metadata": {},
   "outputs": [
    {
     "name": "stdout",
     "output_type": "stream",
     "text": [
      "[[5.5777777777777775, '09'], [14.741176470588234, '13'], [13.440677966101696, '10'], [13.233644859813085, '14'], [16.796296296296298, '16'], [7.985294117647059, '23'], [9.41095890410959, '12'], [11.46, '17'], [38.5948275862069, '15'], [16.009174311926607, '21'], [21.525, '20'], [23.810344827586206, '02'], [13.20183486238532, '18'], [7.796296296296297, '03'], [10.08695652173913, '05'], [10.8, '19'], [11.383333333333333, '01'], [6.746478873239437, '22'], [10.25, '08'], [7.170212765957447, '04'], [8.127272727272727, '00'], [9.022727272727273, '06'], [7.852941176470588, '07'], [11.051724137931034, '11']]\n",
      "Top 5 hours for ask posts comments\n",
      "15:00: 38.59 average comments per post\n",
      "02:00: 23.81 average comments per post\n",
      "20:00: 21.52 average comments per post\n",
      "16:00: 16.80 average comments per post\n",
      "21:00: 16.01 average comments per post\n"
     ]
    }
   ],
   "source": [
    "swap_avg_by_hour = []\n",
    "for row in avg_by_hour:\n",
    "    swap_avg_by_hour.append([row[1], row[0]])\n",
    "print(swap_avg_by_hour)\n",
    "sorted_swap = sorted(swap_avg_by_hour, reverse = True)\n",
    "print(\"Top 5 hours for ask posts comments\")\n",
    "template = \"{hour}: {comments:.2f} average comments per post\"\n",
    "for row in sorted_swap[:5]:\n",
    "    hour = row[1]\n",
    "    comment = row[0]\n",
    "    hour_dt = dt.datetime.strptime(hour, \"%H\")\n",
    "    hour_str = hour_dt.strftime(\"%H:%M\")\n",
    "    final_str = template.format(hour=hour_str, comments=comment)\n",
    "    print(final_str)\n",
    "    "
   ]
  },
  {
   "cell_type": "markdown",
   "metadata": {},
   "source": [
    "Now I would like to convert the times to the time zone I live in to better understand which hours are best for posting if you want high comment engagement."
   ]
  },
  {
   "cell_type": "code",
   "execution_count": 48,
   "metadata": {},
   "outputs": [
    {
     "name": "stdout",
     "output_type": "stream",
     "text": [
      "03:00 PM: 38.59 average comments per post\n",
      "02:00 AM: 23.81 average comments per post\n",
      "08:00 PM: 21.52 average comments per post\n",
      "04:00 PM: 16.80 average comments per post\n",
      "09:00 PM: 16.01 average comments per post\n"
     ]
    }
   ],
   "source": [
    "for row in sorted_swap[:5]:\n",
    "    hour = row[1]\n",
    "    comment = row[0]\n",
    "    hour_dt = dt.datetime.strptime(hour, \"%H\")\n",
    "    hour_str = hour_dt.strftime(\"%I:%M %p\")\n",
    "    final_str = template.format(hour=hour_str, comments=comment)\n",
    "    print(final_str)"
   ]
  },
  {
   "cell_type": "markdown",
   "metadata": {},
   "source": [
    "# Final Analysis\n",
    "From these calculations I am able to determine that the best times for posting Ask HN posts fall into two ranges 3-4pm and 8-9pm. There is also an outlier in posts created at 2AM that have a lot of activity. This could be because some programmers are nocturnal and work into the night or because Hacker News is globally accessible"
   ]
  },
  {
   "cell_type": "markdown",
   "metadata": {},
   "source": [
    "# Additional Analysis\n",
    "Now that I have completed the guided portion of this project. I would like to look at some other types of analysis. Such as determing if show or ask posts receive more points on average from other users. Determing if posts created at a certain time are more likely to receive more points and then compare my results to the average number of comments and points other posts receive"
   ]
  },
  {
   "cell_type": "markdown",
   "metadata": {},
   "source": [
    "## Calculating extra steps\n",
    "First I want to use the lists I created earlier for ask, show and other posts. I need to loop through them to gather information about number of points and determine which set of posts receive the most points on average."
   ]
  },
  {
   "cell_type": "code",
   "execution_count": 49,
   "metadata": {},
   "outputs": [
    {
     "name": "stdout",
     "output_type": "stream",
     "text": [
      "2.0\n",
      "27.555077452667813\n"
     ]
    }
   ],
   "source": [
    "total_ask_points = 0\n",
    "for row in ask_posts:\n",
    "    points = row[3]\n",
    "    points_int = int(comments)\n",
    "    total_ask_points += points_int\n",
    "    \n",
    "avg_ask_points = total_ask_points / len(ask_posts)\n",
    "print(avg_ask_points)\n",
    "\n",
    "total_show_points = 0\n",
    "for row in show_posts:\n",
    "    points = row[3]\n",
    "    points_int = int(points)\n",
    "    total_show_points += points_int\n",
    "\n",
    "avg_show_points = total_show_points / len(show_posts)\n",
    "print(avg_show_points)"
   ]
  },
  {
   "cell_type": "markdown",
   "metadata": {},
   "source": [
    "From this calculation its obvious that Show HN posts receive more points on average. So now I want to determine if show posts created at a certain time are more likely to receive more points."
   ]
  },
  {
   "cell_type": "code",
   "execution_count": 50,
   "metadata": {},
   "outputs": [
    {
     "name": "stdout",
     "output_type": "stream",
     "text": [
      "{'14': 86, '22': 46, '18': 61, '07': 26, '20': 60, '05': 19, '16': 93, '19': 55, '15': 78, '03': 27, '17': 93, '06': 16, '02': 30, '13': 99, '08': 34, '21': 47, '04': 26, '11': 44, '12': 61, '23': 36, '09': 30, '01': 28, '10': 36, '00': 31}\n",
      "{'14': 2187, '22': 1856, '18': 2215, '07': 494, '20': 1819, '05': 104, '16': 2634, '19': 1702, '15': 2228, '03': 679, '17': 2521, '06': 375, '02': 340, '13': 2438, '08': 519, '21': 866, '04': 386, '11': 1480, '12': 2543, '23': 1526, '09': 553, '01': 700, '10': 681, '00': 1173}\n"
     ]
    }
   ],
   "source": [
    "import datetime as dt\n",
    "result_list_show = []\n",
    "for row in show_posts:\n",
    "    created = row[6]\n",
    "    points = row[3]\n",
    "    points_int = int(points)\n",
    "    list_elem_s = [created, points_int]\n",
    "    result_list_show.append(list_elem_s)\n",
    "\n",
    "show_counts_by_hour = {}\n",
    "points_by_hour = {}\n",
    "for row in result_list_show:\n",
    "    date = row[0]\n",
    "    date_obj = dt.datetime.strptime(date, \"%m/%d/%Y %H:%M\")\n",
    "    hour = date_obj.strftime(\"%H\")\n",
    "    if hour not in show_counts_by_hour:\n",
    "        show_counts_by_hour[hour] = 1\n",
    "        points_by_hour[hour] = row[1]\n",
    "    else:\n",
    "        show_counts_by_hour[hour] += 1\n",
    "        points_by_hour[hour] += row[1]\n",
    "\n",
    "print(show_counts_by_hour)\n",
    "print(points_by_hour)"
   ]
  },
  {
   "cell_type": "markdown",
   "metadata": {},
   "source": [
    "Now I want to use these two new dictionaries for finding the average points per hour.\n",
    "- show_counts_by_hour: containing the number of show posts created each hour\n",
    "- points_by_hour: containing the corresponding number of points per hour"
   ]
  },
  {
   "cell_type": "code",
   "execution_count": 55,
   "metadata": {},
   "outputs": [
    {
     "name": "stdout",
     "output_type": "stream",
     "text": [
      "[['14', 25.430232558139537], ['22', 40.34782608695652], ['18', 36.31147540983606], ['07', 19.0], ['20', 30.316666666666666], ['05', 5.473684210526316], ['16', 28.322580645161292], ['19', 30.945454545454545], ['15', 28.564102564102566], ['03', 25.14814814814815], ['17', 27.107526881720432], ['06', 23.4375], ['02', 11.333333333333334], ['13', 24.626262626262626], ['08', 15.264705882352942], ['21', 18.425531914893618], ['04', 14.846153846153847], ['11', 33.63636363636363], ['12', 41.68852459016394], ['23', 42.388888888888886], ['09', 18.433333333333334], ['01', 25.0], ['10', 18.916666666666668], ['00', 37.83870967741935]]\n"
     ]
    }
   ],
   "source": [
    "avgpoints_by_hour = []\n",
    "for points in points_by_hour:\n",
    "    avgpoints_by_hour.append([points, points_by_hour[points]/show_counts_by_hour[points]])\n",
    "    \n",
    "print(avgpoints_by_hour)"
   ]
  },
  {
   "cell_type": "markdown",
   "metadata": {},
   "source": [
    "Now I want to compare my results to the average number of comments and points other posts receive. First I need to organize the average number of comments and posts that Ask HN and Show HN posts receive into lists"
   ]
  },
  {
   "cell_type": "code",
   "execution_count": 56,
   "metadata": {},
   "outputs": [
    {
     "name": "stdout",
     "output_type": "stream",
     "text": [
      "[14.038417431192661, 2.0]\n",
      "[10.31669535283993, 27.555077452667813]\n"
     ]
    }
   ],
   "source": [
    "avg_ask_posts = [avg_ask_comments, avg_ask_points]\n",
    "avg_show_posts = [avg_show_comments, avg_show_points]\n",
    "print(avg_ask_posts)\n",
    "print(avg_show_posts)"
   ]
  },
  {
   "cell_type": "markdown",
   "metadata": {},
   "source": [
    "Now I need to calculate the average number of comments on other posts as well as the average number of points."
   ]
  },
  {
   "cell_type": "code",
   "execution_count": 59,
   "metadata": {},
   "outputs": [
    {
     "name": "stdout",
     "output_type": "stream",
     "text": [
      "26.8730371059672\n",
      "58.0\n"
     ]
    }
   ],
   "source": [
    "total_other_comments = 0\n",
    "for row in other_posts:\n",
    "    comments = row[4]\n",
    "    comments_int = int(comments)\n",
    "    total_other_comments += comments_int\n",
    "    \n",
    "avg_other_comments = total_other_comments / len(other_posts)\n",
    "print(avg_other_comments)\n",
    "\n",
    "total_other_points = 0\n",
    "for row in other_posts:\n",
    "    points = row[3]\n",
    "    points_int = int(comments)\n",
    "    total_other_points += points_int\n",
    "    \n",
    "avg_other_points = total_other_points / len(other_posts)\n",
    "print(avg_other_points)\n"
   ]
  },
  {
   "cell_type": "markdown",
   "metadata": {},
   "source": [
    "Now lets add the average comments and points into a list together for future analysis."
   ]
  },
  {
   "cell_type": "code",
   "execution_count": 60,
   "metadata": {},
   "outputs": [
    {
     "ename": "NameError",
     "evalue": "name 'avg_other_posts' is not defined",
     "output_type": "error",
     "traceback": [
      "\u001b[0;31m---------------------------------------------------------------------------\u001b[0m",
      "\u001b[0;31mNameError\u001b[0m                                 Traceback (most recent call last)",
      "\u001b[0;32m<ipython-input-60-25402f2518cc>\u001b[0m in \u001b[0;36m<module>\u001b[0;34m\u001b[0m\n\u001b[1;32m      2\u001b[0m \u001b[0mavg_lists\u001b[0m\u001b[0;34m.\u001b[0m\u001b[0mappend\u001b[0m\u001b[0;34m(\u001b[0m\u001b[0mavg_ask_posts\u001b[0m\u001b[0;34m)\u001b[0m\u001b[0;34m\u001b[0m\u001b[0;34m\u001b[0m\u001b[0m\n\u001b[1;32m      3\u001b[0m \u001b[0mavg_lists\u001b[0m\u001b[0;34m.\u001b[0m\u001b[0mappend\u001b[0m\u001b[0;34m(\u001b[0m\u001b[0mavg_show_posts\u001b[0m\u001b[0;34m)\u001b[0m\u001b[0;34m\u001b[0m\u001b[0;34m\u001b[0m\u001b[0m\n\u001b[0;32m----> 4\u001b[0;31m \u001b[0mavg_lists\u001b[0m\u001b[0;34m.\u001b[0m\u001b[0mappend\u001b[0m\u001b[0;34m(\u001b[0m\u001b[0mavg_other_posts\u001b[0m\u001b[0;34m)\u001b[0m\u001b[0;34m\u001b[0m\u001b[0;34m\u001b[0m\u001b[0m\n\u001b[0m\u001b[1;32m      5\u001b[0m \u001b[0mprint\u001b[0m\u001b[0;34m(\u001b[0m\u001b[0mavg_lists\u001b[0m\u001b[0;34m)\u001b[0m\u001b[0;34m\u001b[0m\u001b[0;34m\u001b[0m\u001b[0m\n",
      "\u001b[0;31mNameError\u001b[0m: name 'avg_other_posts' is not defined"
     ]
    }
   ],
   "source": [
    "avg_lists = []\n",
    "avg_lists.append(avg_ask_posts)\n",
    "avg_lists.append(avg_show_posts)\n",
    "avg_lists.append(avg_other_posts)\n",
    "print(avg_lists)"
   ]
  },
  {
   "cell_type": "code",
   "execution_count": null,
   "metadata": {},
   "outputs": [],
   "source": []
  }
 ],
 "metadata": {
  "kernelspec": {
   "display_name": "Python 3",
   "language": "python",
   "name": "python3"
  },
  "language_info": {
   "codemirror_mode": {
    "name": "ipython",
    "version": 3
   },
   "file_extension": ".py",
   "mimetype": "text/x-python",
   "name": "python",
   "nbconvert_exporter": "python",
   "pygments_lexer": "ipython3",
   "version": "3.8.2"
  }
 },
 "nbformat": 4,
 "nbformat_minor": 2
}
