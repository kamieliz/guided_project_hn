{
  "cells": [
    {
      "cell_type": "markdown",
      "metadata": {
        "collapsed": true,
        "id": "ji23bHZ62FJS"
      },
      "source": [
        "# Analyzing Submissions on Hacker News\n",
        "Hacker News is a site started by the startup incubator Y Combinator, where user submitted stores receive votes and comments. I would like to analyze posts with titles that begin with **Ask HN** or **Show HN**. Users submit **Ask HN** posts to ask the Hacker News community a specific question. Likewise users submit **Show HN** posts to show the Hacker News community a project, product or just something interesting. I want to compare these type of posts to determine the following:\n",
        "- Do Ask HN or SHOW HN posts receive more comments on average?\n",
        "- Do posts created at a certain time receive more comments on average?\n",
        "\n",
        "I'm going to start by importing the needed libraries and reading the dataset into a list of lists."
      ]
    },
    {
      "cell_type": "code",
      "execution_count": 2,
      "metadata": {
        "id": "vc4jqpwa2FJV",
        "outputId": "83fee9c1-860b-45f1-8161-dc3d42d5b986",
        "colab": {
          "base_uri": "https://localhost:8080/",
          "height": 236
        }
      },
      "outputs": [
        {
          "output_type": "error",
          "ename": "FileNotFoundError",
          "evalue": "ignored",
          "traceback": [
            "\u001b[0;31m---------------------------------------------------------------------------\u001b[0m",
            "\u001b[0;31mFileNotFoundError\u001b[0m                         Traceback (most recent call last)",
            "\u001b[0;32m<ipython-input-2-b2df722a21b9>\u001b[0m in \u001b[0;36m<module>\u001b[0;34m()\u001b[0m\n\u001b[1;32m      1\u001b[0m \u001b[0;32mimport\u001b[0m \u001b[0mcsv\u001b[0m\u001b[0;34m\u001b[0m\u001b[0;34m\u001b[0m\u001b[0m\n\u001b[0;32m----> 2\u001b[0;31m \u001b[0mopened_file\u001b[0m \u001b[0;34m=\u001b[0m \u001b[0mopen\u001b[0m\u001b[0;34m(\u001b[0m\u001b[0;34m'hacker_news.csv'\u001b[0m\u001b[0;34m)\u001b[0m\u001b[0;34m\u001b[0m\u001b[0;34m\u001b[0m\u001b[0m\n\u001b[0m\u001b[1;32m      3\u001b[0m \u001b[0mread_file\u001b[0m \u001b[0;34m=\u001b[0m \u001b[0mcsv\u001b[0m\u001b[0;34m.\u001b[0m\u001b[0mreader\u001b[0m\u001b[0;34m(\u001b[0m\u001b[0mopened_file\u001b[0m\u001b[0;34m)\u001b[0m\u001b[0;34m\u001b[0m\u001b[0;34m\u001b[0m\u001b[0m\n\u001b[1;32m      4\u001b[0m \u001b[0;34m\u001b[0m\u001b[0m\n\u001b[1;32m      5\u001b[0m \u001b[0mhn\u001b[0m \u001b[0;34m=\u001b[0m \u001b[0;34m[\u001b[0m\u001b[0;34m]\u001b[0m\u001b[0;34m\u001b[0m\u001b[0;34m\u001b[0m\u001b[0m\n",
            "\u001b[0;31mFileNotFoundError\u001b[0m: [Errno 2] No such file or directory: 'hacker_news.csv'"
          ]
        }
      ],
      "source": [
        "import csv\n",
        "opened_file = open('hacker_news.csv')\n",
        "read_file = csv.reader(opened_file)\n",
        "\n",
        "hn = []\n",
        "for row in read_file:\n",
        "    hn.append(row)\n",
        "    \n",
        "print(hn[:5])"
      ]
    },
    {
      "cell_type": "markdown",
      "metadata": {
        "id": "L5zxZE0-2FJZ"
      },
      "source": [
        "From the above output I can see that I need to remove the column headers in order to analyze the data. I will do that by removing the first row of the data using list splicing."
      ]
    },
    {
      "cell_type": "code",
      "execution_count": 3,
      "metadata": {
        "id": "PKtY6l742FJZ",
        "outputId": "5052d25e-2bd8-4a2d-c6a3-25d3bd42f1d2",
        "colab": {
          "base_uri": "https://localhost:8080/",
          "height": 218
        }
      },
      "outputs": [
        {
          "output_type": "error",
          "ename": "NameError",
          "evalue": "ignored",
          "traceback": [
            "\u001b[0;31m---------------------------------------------------------------------------\u001b[0m",
            "\u001b[0;31mNameError\u001b[0m                                 Traceback (most recent call last)",
            "\u001b[0;32m<ipython-input-3-6aba4c4d31af>\u001b[0m in \u001b[0;36m<module>\u001b[0;34m()\u001b[0m\n\u001b[0;32m----> 1\u001b[0;31m \u001b[0mheaders\u001b[0m \u001b[0;34m=\u001b[0m \u001b[0mhn\u001b[0m\u001b[0;34m[\u001b[0m\u001b[0;36m0\u001b[0m\u001b[0;34m]\u001b[0m\u001b[0;34m\u001b[0m\u001b[0;34m\u001b[0m\u001b[0m\n\u001b[0m\u001b[1;32m      2\u001b[0m \u001b[0mhn\u001b[0m \u001b[0;34m=\u001b[0m \u001b[0mhn\u001b[0m\u001b[0;34m[\u001b[0m\u001b[0;36m1\u001b[0m\u001b[0;34m:\u001b[0m\u001b[0;34m]\u001b[0m\u001b[0;34m\u001b[0m\u001b[0;34m\u001b[0m\u001b[0m\n\u001b[1;32m      3\u001b[0m \u001b[0mprint\u001b[0m\u001b[0;34m(\u001b[0m\u001b[0mheaders\u001b[0m\u001b[0;34m)\u001b[0m\u001b[0;34m\u001b[0m\u001b[0;34m\u001b[0m\u001b[0m\n\u001b[1;32m      4\u001b[0m \u001b[0mprint\u001b[0m\u001b[0;34m(\u001b[0m\u001b[0mhn\u001b[0m\u001b[0;34m[\u001b[0m\u001b[0;34m:\u001b[0m\u001b[0;36m5\u001b[0m\u001b[0;34m]\u001b[0m\u001b[0;34m)\u001b[0m\u001b[0;34m\u001b[0m\u001b[0;34m\u001b[0m\u001b[0m\n",
            "\u001b[0;31mNameError\u001b[0m: name 'hn' is not defined"
          ]
        }
      ],
      "source": [
        "headers = hn[0]\n",
        "hn = hn[1:]\n",
        "print(headers)\n",
        "print(hn[:5])"
      ]
    },
    {
      "cell_type": "markdown",
      "metadata": {
        "id": "bw31FgEw2FJa"
      },
      "source": [
        "Now I want to create separate lists for posts beginning with Ask HN and Show HN including any case variations"
      ]
    },
    {
      "cell_type": "code",
      "execution_count": null,
      "metadata": {
        "id": "kugfGCS32FJa"
      },
      "outputs": [],
      "source": [
        "ask_posts = []\n",
        "show_posts = []\n",
        "other_posts = []\n",
        "\n",
        "for row in hn:\n",
        "    title = row[1]\n",
        "    title = title.lower()\n",
        "    if title.startswith('ask hn'):\n",
        "        ask_posts.append(row)\n",
        "    elif title.startswith('show hn'):\n",
        "        show_posts.append(row)\n",
        "    else:\n",
        "        other_posts.append(row)\n",
        "        \n",
        "print(len(ask_posts))\n",
        "print(len(show_posts))\n",
        "print(len(other_posts))"
      ]
    },
    {
      "cell_type": "markdown",
      "metadata": {
        "id": "gRH048UL2FJf"
      },
      "source": [
        "Now I want to determine if ask posts or show posts receive more comments on average."
      ]
    },
    {
      "cell_type": "code",
      "execution_count": null,
      "metadata": {
        "id": "quKuQriz2FJg"
      },
      "outputs": [],
      "source": [
        "total_ask_comments = 0\n",
        "for row in ask_posts:\n",
        "    comments = row[4]\n",
        "    comments_int = int(comments)\n",
        "    total_ask_comments += comments_int\n",
        "    \n",
        "avg_ask_comments = total_ask_comments / len(ask_posts)\n",
        "print(avg_ask_comments)\n",
        "\n",
        "total_show_comments = 0\n",
        "for row in show_posts:\n",
        "    comments = row[4]\n",
        "    comments_int = int(comments)\n",
        "    total_show_comments += comments_int\n",
        "\n",
        "avg_show_comments = total_show_comments / len(show_posts)\n",
        "print(avg_show_comments)"
      ]
    },
    {
      "cell_type": "markdown",
      "metadata": {
        "id": "xf3GNSx82FJg"
      },
      "source": [
        "From this simple analysis, it looks like Ask HN posts receive more comments on average compared to Show HN posts."
      ]
    },
    {
      "cell_type": "markdown",
      "metadata": {
        "id": "mNJT9Zfh2FJh"
      },
      "source": [
        "Since ask posts are more likely to receive comments, I want to focus my remaining analysis on just those posts.\n",
        "\n",
        "Next I want to determine if ask posts created at a certain time are more likely to attract comments. I will perform that analysis by following the steps below:\n",
        "- calculate the number of ask post created in each hour of the day, along with the number of comments received\n",
        "- calculate the average number of comments ask posts receive by hour created\n",
        "\n",
        "First I want to focus on calculating the number of ask posts created in each hour a day. \n",
        "- I will do that by first importing the datetime module as dt.\n",
        "- Create an empty list and assign it to a list\n",
        "- I will iterate over the ask_posts list and append it to the new list with two elements\n",
        "    - the first element should be the column created at\n",
        "    - the second element should be the number of comments converted into an integer\n",
        "- Create two empty dictionaries\n",
        "- loop through each row of the list and extract teh hour from the date\n",
        "- use datetime.strptime() method to parse the date \n",
        "- Create a frequency table for the hours"
      ]
    },
    {
      "cell_type": "code",
      "execution_count": null,
      "metadata": {
        "id": "ZEzyr9h72FJi"
      },
      "outputs": [],
      "source": [
        "import datetime as dt\n",
        "result_list = []\n",
        "for row in ask_posts:\n",
        "    created = row[6]\n",
        "    comments = row[4]\n",
        "    comments_int = int(comments)\n",
        "    list_elem = [created, comments_int]\n",
        "    result_list.append(list_elem)\n",
        "\n",
        "counts_by_hour = {}\n",
        "comments_by_hour = {}\n",
        "for row in result_list:\n",
        "    date = row[0]\n",
        "    date_obj = dt.datetime.strptime(date, \"%m/%d/%Y %H:%M\")\n",
        "    hour = date_obj.strftime(\"%H\")\n",
        "    if hour not in counts_by_hour:\n",
        "        counts_by_hour[hour] = 1\n",
        "        comments_by_hour[hour] = row[1]\n",
        "    else:\n",
        "        counts_by_hour[hour] += 1\n",
        "        comments_by_hour[hour] += row[1]\n",
        "\n",
        "print(counts_by_hour)\n",
        "print(comments_by_hour)"
      ]
    },
    {
      "cell_type": "markdown",
      "metadata": {
        "id": "a_QunEuZ2FJi"
      },
      "source": [
        "Now that I have two dictionaries:\n",
        "- counts_by_hour: containing the number of ask posts created during each hour of the day\n",
        "- comments_by_hour: containing the corresponding number of comments ask posts created at each hour received\n",
        "\n",
        "I will now use these two dictionaries to calculate the average number of comments for posts created during each hour of the day."
      ]
    },
    {
      "cell_type": "code",
      "execution_count": null,
      "metadata": {
        "id": "wWD3HMq22FJj"
      },
      "outputs": [],
      "source": [
        "avg_by_hour = []\n",
        "for comment in comments_by_hour:\n",
        "    avg_by_hour.append([comment, comments_by_hour[comment]/counts_by_hour[comment]])\n",
        "    \n",
        "print(avg_by_hour)"
      ]
    },
    {
      "cell_type": "markdown",
      "metadata": {
        "id": "s479vGM62FJj"
      },
      "source": [
        "Now that I have identified the average amount of comments per hour. I want to format this list so that it is easy to identify the hours with the highest values.\n",
        "I want to finish this project by sorting the list of lists and printing the five highest values in a format that is easier to read"
      ]
    },
    {
      "cell_type": "code",
      "execution_count": null,
      "metadata": {
        "id": "k-rW971p2FJk"
      },
      "outputs": [],
      "source": [
        "swap_avg_by_hour = []\n",
        "for row in avg_by_hour:\n",
        "    swap_avg_by_hour.append([row[1], row[0]])\n",
        "print(swap_avg_by_hour)\n",
        "sorted_swap = sorted(swap_avg_by_hour, reverse = True)\n",
        "print(\"Top 5 hours for ask posts comments\")\n",
        "template = \"{hour}: {comments:.2f} average comments per post\"\n",
        "for row in sorted_swap[:5]:\n",
        "    hour = row[1]\n",
        "    comment = row[0]\n",
        "    hour_dt = dt.datetime.strptime(hour, \"%H\")\n",
        "    hour_str = hour_dt.strftime(\"%H:%M\")\n",
        "    final_str = template.format(hour=hour_str, comments=comment)\n",
        "    print(final_str)\n",
        "    "
      ]
    },
    {
      "cell_type": "markdown",
      "metadata": {
        "id": "ajlpso9W2FJk"
      },
      "source": [
        "Now I would like to convert the times to the time zone I live in to better understand which hours are best for posting if you want high comment engagement."
      ]
    },
    {
      "cell_type": "code",
      "execution_count": null,
      "metadata": {
        "id": "qOVOMxGV2FJk"
      },
      "outputs": [],
      "source": [
        "for row in sorted_swap[:5]:\n",
        "    hour = row[1]\n",
        "    comment = row[0]\n",
        "    hour_dt = dt.datetime.strptime(hour, \"%H\")\n",
        "    hour_str = hour_dt.strftime(\"%I:%M %p\")\n",
        "    final_str = template.format(hour=hour_str, comments=comment)\n",
        "    print(final_str)"
      ]
    },
    {
      "cell_type": "markdown",
      "metadata": {
        "id": "V3aAllox2FJk"
      },
      "source": [
        "# Final Analysis\n",
        "From these calculations I am able to determine that the best times for posting Ask HN posts fall into two ranges 3-4pm and 8-9pm. There is also an outlier in posts created at 2AM that have a lot of activity. This could be because some programmers are nocturnal and work into the night or because Hacker News is globally accessible"
      ]
    },
    {
      "cell_type": "markdown",
      "metadata": {
        "id": "ppXVOEcX2FJk"
      },
      "source": [
        "# Additional Analysis\n",
        "Now that I have completed the guided portion of this project. I would like to look at some other types of analysis. Such as determing if show or ask posts receive more points on average from other users. Determing if posts created at a certain time are more likely to receive more points and then compare my results to the average number of comments and points other posts receive"
      ]
    },
    {
      "cell_type": "markdown",
      "metadata": {
        "id": "ze7nvd-T2FJl"
      },
      "source": [
        "## Calculating extra steps\n",
        "First I want to use the lists I created earlier for ask, show and other posts. I need to loop through them to gather information about number of points and determine which set of posts receive the most points on average."
      ]
    },
    {
      "cell_type": "code",
      "execution_count": null,
      "metadata": {
        "id": "drPk_ke-2FJl"
      },
      "outputs": [],
      "source": [
        "total_ask_points = 0\n",
        "for row in ask_posts:\n",
        "    points = row[3]\n",
        "    points_int = int(comments)\n",
        "    total_ask_points += points_int\n",
        "    \n",
        "avg_ask_points = total_ask_points / len(ask_posts)\n",
        "print(avg_ask_points)\n",
        "\n",
        "total_show_points = 0\n",
        "for row in show_posts:\n",
        "    points = row[3]\n",
        "    points_int = int(points)\n",
        "    total_show_points += points_int\n",
        "\n",
        "avg_show_points = total_show_points / len(show_posts)\n",
        "print(avg_show_points)"
      ]
    },
    {
      "cell_type": "markdown",
      "metadata": {
        "id": "_jnNrxx42FJl"
      },
      "source": [
        "From this calculation its obvious that Show HN posts receive more points on average. So now I want to determine if show posts created at a certain time are more likely to receive more points."
      ]
    },
    {
      "cell_type": "code",
      "execution_count": null,
      "metadata": {
        "id": "5go3Q7Tg2FJl"
      },
      "outputs": [],
      "source": [
        "import datetime as dt\n",
        "result_list_show = []\n",
        "for row in show_posts:\n",
        "    created = row[6]\n",
        "    points = row[3]\n",
        "    points_int = int(points)\n",
        "    list_elem_s = [created, points_int]\n",
        "    result_list_show.append(list_elem_s)\n",
        "\n",
        "show_counts_by_hour = {}\n",
        "points_by_hour = {}\n",
        "for row in result_list_show:\n",
        "    date = row[0]\n",
        "    date_obj = dt.datetime.strptime(date, \"%m/%d/%Y %H:%M\")\n",
        "    hour = date_obj.strftime(\"%H\")\n",
        "    if hour not in show_counts_by_hour:\n",
        "        show_counts_by_hour[hour] = 1\n",
        "        points_by_hour[hour] = row[1]\n",
        "    else:\n",
        "        show_counts_by_hour[hour] += 1\n",
        "        points_by_hour[hour] += row[1]\n",
        "\n",
        "print(show_counts_by_hour)\n",
        "print(points_by_hour)"
      ]
    },
    {
      "cell_type": "markdown",
      "metadata": {
        "id": "OHQDH7Xv2FJm"
      },
      "source": [
        "Now I want to use these two new dictionaries for finding the average points per hour.\n",
        "- show_counts_by_hour: containing the number of show posts created each hour\n",
        "- points_by_hour: containing the corresponding number of points per hour"
      ]
    },
    {
      "cell_type": "code",
      "execution_count": null,
      "metadata": {
        "id": "e_4wzlxe2FJm"
      },
      "outputs": [],
      "source": [
        "avgpoints_by_hour = []\n",
        "for points in points_by_hour:\n",
        "    avgpoints_by_hour.append([points, points_by_hour[points]/show_counts_by_hour[points]])\n",
        "    \n",
        "print(avgpoints_by_hour)"
      ]
    },
    {
      "cell_type": "markdown",
      "metadata": {
        "id": "2KVajXox2FJm"
      },
      "source": [
        "Now I want to compare my results to the average number of comments and points other posts receive. First I need to organize the average number of comments and posts that Ask HN and Show HN posts receive into lists"
      ]
    },
    {
      "cell_type": "code",
      "execution_count": null,
      "metadata": {
        "id": "CRn1__lP2FJm"
      },
      "outputs": [],
      "source": [
        "avg_ask_posts = [avg_ask_comments, avg_ask_points]\n",
        "avg_show_posts = [avg_show_comments, avg_show_points]\n",
        "print(avg_ask_posts)\n",
        "print(avg_show_posts)"
      ]
    },
    {
      "cell_type": "markdown",
      "metadata": {
        "id": "sMEzJ-e52FJn"
      },
      "source": [
        "Now I need to calculate the average number of comments on other posts as well as the average number of points."
      ]
    },
    {
      "cell_type": "markdown",
      "metadata": {
        "id": "CJSmw8V82FJn"
      },
      "source": [
        "Now lets add the average comments and points into a list together for future analysis."
      ]
    },
    {
      "cell_type": "code",
      "execution_count": null,
      "metadata": {
        "id": "nOJsRy_G2FJn"
      },
      "outputs": [],
      "source": [
        "total_other_comments = 0\n",
        "for row in other_posts:\n",
        "    comments = row[4]\n",
        "    comments_int = int(comments)\n",
        "    total_other_comments += comments_int\n",
        "    \n",
        "avg_other_comments = total_other_comments / len(other_posts)\n",
        "print(avg_other_comments)\n",
        "\n",
        "total_other_points = 0\n",
        "for row in other_posts:\n",
        "    points = row[3]\n",
        "    points_int = int(comments)\n",
        "    total_other_points += points_int\n",
        "    \n",
        "avg_other_points = total_other_points / len(other_posts)\n",
        "print(avg_other_points)\n",
        "\n",
        "avg_other_posts = [avg_other_comments, avg_other_points]\n"
      ]
    },
    {
      "cell_type": "code",
      "execution_count": null,
      "metadata": {
        "id": "M8ykHpU62FJn"
      },
      "outputs": [],
      "source": [
        ""
      ]
    },
    {
      "cell_type": "code",
      "execution_count": null,
      "metadata": {
        "id": "KSh6MxCN2FJn"
      },
      "outputs": [],
      "source": [
        "avg_lists = []\n",
        "avg_lists.append(avg_ask_posts)\n",
        "avg_lists.append(avg_show_posts)\n",
        "avg_lists.append(avg_other_posts)\n",
        "print(avg_lists)"
      ]
    }
  ],
  "metadata": {
    "kernelspec": {
      "display_name": "Python 3",
      "language": "python",
      "name": "python3"
    },
    "language_info": {
      "codemirror_mode": {
        "name": "ipython",
        "version": 3
      },
      "file_extension": ".py",
      "mimetype": "text/x-python",
      "name": "python",
      "nbconvert_exporter": "python",
      "pygments_lexer": "ipython3",
      "version": "3.8.2"
    },
    "colab": {
      "name": "Basics.ipynb",
      "provenance": []
    }
  },
  "nbformat": 4,
  "nbformat_minor": 0
}